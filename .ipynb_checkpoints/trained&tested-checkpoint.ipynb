{
 "cells": [
  {
   "cell_type": "code",
   "execution_count": 40,
   "metadata": {
    "collapsed": false
   },
   "outputs": [],
   "source": [
    "import numpy\n",
    "import scipy.special\n",
    "class neuralNetwork:\n",
    "    def __init__(self,inputnodes,hiddennodes,outputnodes,learningrate):\n",
    "        self.inodes=inputnodes\n",
    "        self.hnodes=hiddennodes\n",
    "        self.onodes=outputnodes\n",
    "        self.lr=learningrate\n",
    "        self.wih = numpy.random.normal(0.0, pow(self.hnodes, -0.5), (self.hnodes, self.inodes))\n",
    "        self.who = numpy.random.normal(0.0, pow(self.onodes, -0.5), (self.onodes, self.hnodes)) \n",
    "        self.activation_function=lambda x:scipy.special.expit(x)\n",
    "    pass\n",
    "\n",
    "    def train():\n",
    "            inputs = numpy.array(inputs_list, ndmin=2).T\n",
    "            targets = numpy.array(targets_list, ndmin=2).T\n",
    "            hidden_inputs = numpy.dot(self.wih, inputs)\n",
    "            hidden_outputs = self.activation_function(hidden_inputs)\n",
    "            final_inputs = numpy.dot(self.who, hidden_outputs)\n",
    "            final_outputs = self.activation_function(final_inputs)\n",
    "            output_errors = targets - final_outputs\n",
    "            hidden_errors = numpy.dot(self.who.T, output_errors)\n",
    "            self.who += self.lr * numpy.dot((output_errors * final_outputs * (1.0 - final_outputs)), numpy.transpose(hidden_outputs))  \n",
    "            self.wih += self.lr * numpy.dot((hidden_errors * hidden_outputs * (1.0 - hidden_outputs)), numpy.transpose(inputs)) \n",
    "    pass\n",
    "\n",
    "    def query(self,inputs_list):\n",
    "        inputs=numpy.array(inputs_list,ndmin=2).T\n",
    "        hidden_inputs = numpy.dot(self.wih, inputs)    \n",
    "        hidden_outputs = self.activation_function(hidden_inputs)       \n",
    "        final_inputs = numpy.dot(self.who, hidden_outputs)             \n",
    "        final_outputs = self.activation_function(final_inputs)\n",
    "        return final_outputs\n",
    "pass"
   ]
  },
  {
   "cell_type": "code",
   "execution_count": 41,
   "metadata": {
    "collapsed": false
   },
   "outputs": [],
   "source": [
    "input_nodes=784\n",
    "hidden_nodes=100\n",
    "output_nodes=10\n",
    "learning_rate=0.3\n",
    "n=neuralNetwork(input_nodes,hidden_nodes,output_nodes,learning_rate)\n",
    "training_data_file=open(\"mnist_train.csv\",r)\n",
    "training_data_lisst=training_data_"
   ]
  },
  {
   "cell_type": "code",
   "execution_count": 45,
   "metadata": {
    "collapsed": false
   },
   "outputs": [
    {
     "data": {
      "text/plain": [
       "array([[ 0.28788473],\n",
       "       [ 0.62666513],\n",
       "       [ 0.55875302]])"
      ]
     },
     "execution_count": 45,
     "metadata": {},
     "output_type": "execute_result"
    }
   ],
   "source": [
    "n.query([1.0,0.5,-1.5])"
   ]
  }
 ],
 "metadata": {
  "kernelspec": {
   "display_name": "Python 3",
   "language": "python",
   "name": "python3"
  },
  "language_info": {
   "codemirror_mode": {
    "name": "ipython",
    "version": 3
   },
   "file_extension": ".py",
   "mimetype": "text/x-python",
   "name": "python",
   "nbconvert_exporter": "python",
   "pygments_lexer": "ipython3",
   "version": "3.6.0"
  }
 },
 "nbformat": 4,
 "nbformat_minor": 2
}
